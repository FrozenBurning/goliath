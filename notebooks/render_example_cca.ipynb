{
 "cells": [
  {
   "cell_type": "code",
   "execution_count": null,
   "id": "43cbd3f0",
   "metadata": {},
   "outputs": [],
   "source": [
    "import sys\n",
    "import os\n",
    "\n",
    "# set the right device\n",
    "#os.environ['CUDA_VISIBLE_DEVICES'] = '0'\n",
    "# NOTE: assuming we are in `ca_body/notebooks`\n",
    "sys.path.insert(0, '../')\n",
    "from attrdict import AttrDict\n",
    "\n",
    "from omegaconf import OmegaConf\n",
    "from torchvision.utils import make_grid\n",
    "\n",
    "from ca_body.utils.module_loader import load_from_config\n",
    "from ca_body.utils.lbs import LBSModule\n",
    "from ca_body.utils.train import load_checkpoint\n",
    "\n",
    "device = th.device('cuda:0')"
   ]
  },
  {
   "cell_type": "code",
   "execution_count": null,
   "id": "5caf2480",
   "metadata": {},
   "outputs": [],
   "source": [
    "# NOTE: make sure to download the data\n",
    "model_dir = '../data/cca/PXB184'\n",
    "\n",
    "ckpt_path = f'{model_dir}/body_dec.ckpt'\n",
    "config_path = f'{model_dir}/config.yml'\n",
    "assets_path = f'{model_dir}/static_assets.pt'\n",
    "\n",
    "# config\n",
    "config = OmegaConf.load(config_path)\n",
    "# assets\n",
    "static_assets = AttrDict(th.load(assets_path))\n",
    "# sample batch\n",
    "batch = th.load(f'{model_dir}/sample_batch.pt')\n",
    "batch = to_device(batch, device)"
   ]
  },
  {
   "cell_type": "code",
   "execution_count": null,
   "id": "73331f2e",
   "metadata": {},
   "outputs": [],
   "source": [
    "# building the model\n",
    "model = load_from_config(\n",
    "    config.model, \n",
    "    assets=static_assets,\n",
    ").to(device)\n",
    "\n",
    "# loading model checkpoint\n",
    "load_checkpoint(\n",
    "    ckpt_path, \n",
    "    modules={'model': model},\n",
    "    # NOTE: this is accounting for difference in LBS impl\n",
    "    ignore_names={'model': ['lbs_fn.*']},\n",
    ")"
   ]
  },
  {
   "cell_type": "code",
   "execution_count": null,
   "id": "86a2a291",
   "metadata": {},
   "outputs": [],
   "source": [
    "# disabling training-only stuff\n",
    "model.learn_blur_enabled = False\n",
    "model.pixel_cal_enabled = False\n",
    "model.cal_enabled = False\n",
    "\n",
    "# forward\n",
    "with th.no_grad():\n",
    "    preds = model(**batch)"
   ]
  },
  {
   "cell_type": "code",
   "execution_count": null,
   "id": "9a566533",
   "metadata": {},
   "outputs": [],
   "source": [
    "# visualizing\n",
    "rgb_preds_grid = make_grid(preds['rgb'], nrow=4).permute(1, 2, 0).cpu().numpy() / 255.\n",
    "plt.figure(figsize=(15, 15))\n",
    "plt.imshow(rgb_preds_grid[::4,::4])"
   ]
  }
 ],
 "metadata": {
  "kernelspec": {
   "display_name": "Python 3 (ipykernel)",
   "language": "python",
   "name": "python3"
  },
  "language_info": {
   "codemirror_mode": {
    "name": "ipython",
    "version": 3
   },
   "file_extension": ".py",
   "mimetype": "text/x-python",
   "name": "python",
   "nbconvert_exporter": "python",
   "pygments_lexer": "ipython3",
   "version": "3.8.13"
  }
 },
 "nbformat": 4,
 "nbformat_minor": 5
}
